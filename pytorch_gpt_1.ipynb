{
  "nbformat": 4,
  "nbformat_minor": 0,
  "metadata": {
    "colab": {
      "provenance": [],
      "gpuType": "T4",
      "authorship_tag": "ABX9TyO8YSAstl/wbYTs7Y1p+GtU",
      "include_colab_link": true
    },
    "kernelspec": {
      "name": "python3",
      "display_name": "Python 3"
    },
    "language_info": {
      "name": "python"
    },
    "accelerator": "GPU",
    "widgets": {
      "application/vnd.jupyter.widget-state+json": {
        "78ab1fccccb84b4b9d902763018b4ded": {
          "model_module": "@jupyter-widgets/controls",
          "model_name": "HBoxModel",
          "model_module_version": "1.5.0",
          "state": {
            "_dom_classes": [],
            "_model_module": "@jupyter-widgets/controls",
            "_model_module_version": "1.5.0",
            "_model_name": "HBoxModel",
            "_view_count": null,
            "_view_module": "@jupyter-widgets/controls",
            "_view_module_version": "1.5.0",
            "_view_name": "HBoxView",
            "box_style": "",
            "children": [
              "IPY_MODEL_b92f6864b06b4fdb95d7d22f1a6e2005",
              "IPY_MODEL_2e8b6c2921fa4b40aef604138ac6e399",
              "IPY_MODEL_e5bde4cad7914c61be1443c3254824e1"
            ],
            "layout": "IPY_MODEL_57778d0302dd47d9a74de6a4811ffb37"
          }
        },
        "b92f6864b06b4fdb95d7d22f1a6e2005": {
          "model_module": "@jupyter-widgets/controls",
          "model_name": "HTMLModel",
          "model_module_version": "1.5.0",
          "state": {
            "_dom_classes": [],
            "_model_module": "@jupyter-widgets/controls",
            "_model_module_version": "1.5.0",
            "_model_name": "HTMLModel",
            "_view_count": null,
            "_view_module": "@jupyter-widgets/controls",
            "_view_module_version": "1.5.0",
            "_view_name": "HTMLView",
            "description": "",
            "description_tooltip": null,
            "layout": "IPY_MODEL_e3a3dc5a2ea7450ea80e6d15a0accf21",
            "placeholder": "​",
            "style": "IPY_MODEL_a7a4dbd5625d4251845acb3776c00916",
            "value": "tokenizer_config.json: 100%"
          }
        },
        "2e8b6c2921fa4b40aef604138ac6e399": {
          "model_module": "@jupyter-widgets/controls",
          "model_name": "FloatProgressModel",
          "model_module_version": "1.5.0",
          "state": {
            "_dom_classes": [],
            "_model_module": "@jupyter-widgets/controls",
            "_model_module_version": "1.5.0",
            "_model_name": "FloatProgressModel",
            "_view_count": null,
            "_view_module": "@jupyter-widgets/controls",
            "_view_module_version": "1.5.0",
            "_view_name": "ProgressView",
            "bar_style": "success",
            "description": "",
            "description_tooltip": null,
            "layout": "IPY_MODEL_bd8f5ba31d1c4cfbba96ab9eedd7fc2b",
            "max": 48,
            "min": 0,
            "orientation": "horizontal",
            "style": "IPY_MODEL_b960c4f43b4b44c49947dbe643b44e90",
            "value": 48
          }
        },
        "e5bde4cad7914c61be1443c3254824e1": {
          "model_module": "@jupyter-widgets/controls",
          "model_name": "HTMLModel",
          "model_module_version": "1.5.0",
          "state": {
            "_dom_classes": [],
            "_model_module": "@jupyter-widgets/controls",
            "_model_module_version": "1.5.0",
            "_model_name": "HTMLModel",
            "_view_count": null,
            "_view_module": "@jupyter-widgets/controls",
            "_view_module_version": "1.5.0",
            "_view_name": "HTMLView",
            "description": "",
            "description_tooltip": null,
            "layout": "IPY_MODEL_7251f363e7d242598759942644d809f9",
            "placeholder": "​",
            "style": "IPY_MODEL_e0db956489c242e4a9304af0e137a285",
            "value": " 48.0/48.0 [00:00&lt;00:00, 4.65kB/s]"
          }
        },
        "57778d0302dd47d9a74de6a4811ffb37": {
          "model_module": "@jupyter-widgets/base",
          "model_name": "LayoutModel",
          "model_module_version": "1.2.0",
          "state": {
            "_model_module": "@jupyter-widgets/base",
            "_model_module_version": "1.2.0",
            "_model_name": "LayoutModel",
            "_view_count": null,
            "_view_module": "@jupyter-widgets/base",
            "_view_module_version": "1.2.0",
            "_view_name": "LayoutView",
            "align_content": null,
            "align_items": null,
            "align_self": null,
            "border": null,
            "bottom": null,
            "display": null,
            "flex": null,
            "flex_flow": null,
            "grid_area": null,
            "grid_auto_columns": null,
            "grid_auto_flow": null,
            "grid_auto_rows": null,
            "grid_column": null,
            "grid_gap": null,
            "grid_row": null,
            "grid_template_areas": null,
            "grid_template_columns": null,
            "grid_template_rows": null,
            "height": null,
            "justify_content": null,
            "justify_items": null,
            "left": null,
            "margin": null,
            "max_height": null,
            "max_width": null,
            "min_height": null,
            "min_width": null,
            "object_fit": null,
            "object_position": null,
            "order": null,
            "overflow": null,
            "overflow_x": null,
            "overflow_y": null,
            "padding": null,
            "right": null,
            "top": null,
            "visibility": null,
            "width": null
          }
        },
        "e3a3dc5a2ea7450ea80e6d15a0accf21": {
          "model_module": "@jupyter-widgets/base",
          "model_name": "LayoutModel",
          "model_module_version": "1.2.0",
          "state": {
            "_model_module": "@jupyter-widgets/base",
            "_model_module_version": "1.2.0",
            "_model_name": "LayoutModel",
            "_view_count": null,
            "_view_module": "@jupyter-widgets/base",
            "_view_module_version": "1.2.0",
            "_view_name": "LayoutView",
            "align_content": null,
            "align_items": null,
            "align_self": null,
            "border": null,
            "bottom": null,
            "display": null,
            "flex": null,
            "flex_flow": null,
            "grid_area": null,
            "grid_auto_columns": null,
            "grid_auto_flow": null,
            "grid_auto_rows": null,
            "grid_column": null,
            "grid_gap": null,
            "grid_row": null,
            "grid_template_areas": null,
            "grid_template_columns": null,
            "grid_template_rows": null,
            "height": null,
            "justify_content": null,
            "justify_items": null,
            "left": null,
            "margin": null,
            "max_height": null,
            "max_width": null,
            "min_height": null,
            "min_width": null,
            "object_fit": null,
            "object_position": null,
            "order": null,
            "overflow": null,
            "overflow_x": null,
            "overflow_y": null,
            "padding": null,
            "right": null,
            "top": null,
            "visibility": null,
            "width": null
          }
        },
        "a7a4dbd5625d4251845acb3776c00916": {
          "model_module": "@jupyter-widgets/controls",
          "model_name": "DescriptionStyleModel",
          "model_module_version": "1.5.0",
          "state": {
            "_model_module": "@jupyter-widgets/controls",
            "_model_module_version": "1.5.0",
            "_model_name": "DescriptionStyleModel",
            "_view_count": null,
            "_view_module": "@jupyter-widgets/base",
            "_view_module_version": "1.2.0",
            "_view_name": "StyleView",
            "description_width": ""
          }
        },
        "bd8f5ba31d1c4cfbba96ab9eedd7fc2b": {
          "model_module": "@jupyter-widgets/base",
          "model_name": "LayoutModel",
          "model_module_version": "1.2.0",
          "state": {
            "_model_module": "@jupyter-widgets/base",
            "_model_module_version": "1.2.0",
            "_model_name": "LayoutModel",
            "_view_count": null,
            "_view_module": "@jupyter-widgets/base",
            "_view_module_version": "1.2.0",
            "_view_name": "LayoutView",
            "align_content": null,
            "align_items": null,
            "align_self": null,
            "border": null,
            "bottom": null,
            "display": null,
            "flex": null,
            "flex_flow": null,
            "grid_area": null,
            "grid_auto_columns": null,
            "grid_auto_flow": null,
            "grid_auto_rows": null,
            "grid_column": null,
            "grid_gap": null,
            "grid_row": null,
            "grid_template_areas": null,
            "grid_template_columns": null,
            "grid_template_rows": null,
            "height": null,
            "justify_content": null,
            "justify_items": null,
            "left": null,
            "margin": null,
            "max_height": null,
            "max_width": null,
            "min_height": null,
            "min_width": null,
            "object_fit": null,
            "object_position": null,
            "order": null,
            "overflow": null,
            "overflow_x": null,
            "overflow_y": null,
            "padding": null,
            "right": null,
            "top": null,
            "visibility": null,
            "width": null
          }
        },
        "b960c4f43b4b44c49947dbe643b44e90": {
          "model_module": "@jupyter-widgets/controls",
          "model_name": "ProgressStyleModel",
          "model_module_version": "1.5.0",
          "state": {
            "_model_module": "@jupyter-widgets/controls",
            "_model_module_version": "1.5.0",
            "_model_name": "ProgressStyleModel",
            "_view_count": null,
            "_view_module": "@jupyter-widgets/base",
            "_view_module_version": "1.2.0",
            "_view_name": "StyleView",
            "bar_color": null,
            "description_width": ""
          }
        },
        "7251f363e7d242598759942644d809f9": {
          "model_module": "@jupyter-widgets/base",
          "model_name": "LayoutModel",
          "model_module_version": "1.2.0",
          "state": {
            "_model_module": "@jupyter-widgets/base",
            "_model_module_version": "1.2.0",
            "_model_name": "LayoutModel",
            "_view_count": null,
            "_view_module": "@jupyter-widgets/base",
            "_view_module_version": "1.2.0",
            "_view_name": "LayoutView",
            "align_content": null,
            "align_items": null,
            "align_self": null,
            "border": null,
            "bottom": null,
            "display": null,
            "flex": null,
            "flex_flow": null,
            "grid_area": null,
            "grid_auto_columns": null,
            "grid_auto_flow": null,
            "grid_auto_rows": null,
            "grid_column": null,
            "grid_gap": null,
            "grid_row": null,
            "grid_template_areas": null,
            "grid_template_columns": null,
            "grid_template_rows": null,
            "height": null,
            "justify_content": null,
            "justify_items": null,
            "left": null,
            "margin": null,
            "max_height": null,
            "max_width": null,
            "min_height": null,
            "min_width": null,
            "object_fit": null,
            "object_position": null,
            "order": null,
            "overflow": null,
            "overflow_x": null,
            "overflow_y": null,
            "padding": null,
            "right": null,
            "top": null,
            "visibility": null,
            "width": null
          }
        },
        "e0db956489c242e4a9304af0e137a285": {
          "model_module": "@jupyter-widgets/controls",
          "model_name": "DescriptionStyleModel",
          "model_module_version": "1.5.0",
          "state": {
            "_model_module": "@jupyter-widgets/controls",
            "_model_module_version": "1.5.0",
            "_model_name": "DescriptionStyleModel",
            "_view_count": null,
            "_view_module": "@jupyter-widgets/base",
            "_view_module_version": "1.2.0",
            "_view_name": "StyleView",
            "description_width": ""
          }
        },
        "04792095eab84d37bc93fe574cf3ef64": {
          "model_module": "@jupyter-widgets/controls",
          "model_name": "HBoxModel",
          "model_module_version": "1.5.0",
          "state": {
            "_dom_classes": [],
            "_model_module": "@jupyter-widgets/controls",
            "_model_module_version": "1.5.0",
            "_model_name": "HBoxModel",
            "_view_count": null,
            "_view_module": "@jupyter-widgets/controls",
            "_view_module_version": "1.5.0",
            "_view_name": "HBoxView",
            "box_style": "",
            "children": [
              "IPY_MODEL_591f3e366d4a43078dd297b245022e58",
              "IPY_MODEL_7dc192367c744c9da236e9de00ca02e4",
              "IPY_MODEL_133dc346e0f14e9c9fb3f166182d636e"
            ],
            "layout": "IPY_MODEL_208ea2b3fc7546c497b7ea39703d53b2"
          }
        },
        "591f3e366d4a43078dd297b245022e58": {
          "model_module": "@jupyter-widgets/controls",
          "model_name": "HTMLModel",
          "model_module_version": "1.5.0",
          "state": {
            "_dom_classes": [],
            "_model_module": "@jupyter-widgets/controls",
            "_model_module_version": "1.5.0",
            "_model_name": "HTMLModel",
            "_view_count": null,
            "_view_module": "@jupyter-widgets/controls",
            "_view_module_version": "1.5.0",
            "_view_name": "HTMLView",
            "description": "",
            "description_tooltip": null,
            "layout": "IPY_MODEL_7768bb6c489a47adad4b2f942e7e0d7b",
            "placeholder": "​",
            "style": "IPY_MODEL_736a1c40d4de44e7b3ec041d641388a0",
            "value": "config.json: 100%"
          }
        },
        "7dc192367c744c9da236e9de00ca02e4": {
          "model_module": "@jupyter-widgets/controls",
          "model_name": "FloatProgressModel",
          "model_module_version": "1.5.0",
          "state": {
            "_dom_classes": [],
            "_model_module": "@jupyter-widgets/controls",
            "_model_module_version": "1.5.0",
            "_model_name": "FloatProgressModel",
            "_view_count": null,
            "_view_module": "@jupyter-widgets/controls",
            "_view_module_version": "1.5.0",
            "_view_name": "ProgressView",
            "bar_style": "success",
            "description": "",
            "description_tooltip": null,
            "layout": "IPY_MODEL_f24bee0f7b744eea96e1ad5530ab0879",
            "max": 570,
            "min": 0,
            "orientation": "horizontal",
            "style": "IPY_MODEL_43889561456e457ea1ec7872c8cb7117",
            "value": 570
          }
        },
        "133dc346e0f14e9c9fb3f166182d636e": {
          "model_module": "@jupyter-widgets/controls",
          "model_name": "HTMLModel",
          "model_module_version": "1.5.0",
          "state": {
            "_dom_classes": [],
            "_model_module": "@jupyter-widgets/controls",
            "_model_module_version": "1.5.0",
            "_model_name": "HTMLModel",
            "_view_count": null,
            "_view_module": "@jupyter-widgets/controls",
            "_view_module_version": "1.5.0",
            "_view_name": "HTMLView",
            "description": "",
            "description_tooltip": null,
            "layout": "IPY_MODEL_30f35e93acf44a00b24a7e543970c15c",
            "placeholder": "​",
            "style": "IPY_MODEL_39a7785370704a7d88e28d084024ec69",
            "value": " 570/570 [00:00&lt;00:00, 61.0kB/s]"
          }
        },
        "208ea2b3fc7546c497b7ea39703d53b2": {
          "model_module": "@jupyter-widgets/base",
          "model_name": "LayoutModel",
          "model_module_version": "1.2.0",
          "state": {
            "_model_module": "@jupyter-widgets/base",
            "_model_module_version": "1.2.0",
            "_model_name": "LayoutModel",
            "_view_count": null,
            "_view_module": "@jupyter-widgets/base",
            "_view_module_version": "1.2.0",
            "_view_name": "LayoutView",
            "align_content": null,
            "align_items": null,
            "align_self": null,
            "border": null,
            "bottom": null,
            "display": null,
            "flex": null,
            "flex_flow": null,
            "grid_area": null,
            "grid_auto_columns": null,
            "grid_auto_flow": null,
            "grid_auto_rows": null,
            "grid_column": null,
            "grid_gap": null,
            "grid_row": null,
            "grid_template_areas": null,
            "grid_template_columns": null,
            "grid_template_rows": null,
            "height": null,
            "justify_content": null,
            "justify_items": null,
            "left": null,
            "margin": null,
            "max_height": null,
            "max_width": null,
            "min_height": null,
            "min_width": null,
            "object_fit": null,
            "object_position": null,
            "order": null,
            "overflow": null,
            "overflow_x": null,
            "overflow_y": null,
            "padding": null,
            "right": null,
            "top": null,
            "visibility": null,
            "width": null
          }
        },
        "7768bb6c489a47adad4b2f942e7e0d7b": {
          "model_module": "@jupyter-widgets/base",
          "model_name": "LayoutModel",
          "model_module_version": "1.2.0",
          "state": {
            "_model_module": "@jupyter-widgets/base",
            "_model_module_version": "1.2.0",
            "_model_name": "LayoutModel",
            "_view_count": null,
            "_view_module": "@jupyter-widgets/base",
            "_view_module_version": "1.2.0",
            "_view_name": "LayoutView",
            "align_content": null,
            "align_items": null,
            "align_self": null,
            "border": null,
            "bottom": null,
            "display": null,
            "flex": null,
            "flex_flow": null,
            "grid_area": null,
            "grid_auto_columns": null,
            "grid_auto_flow": null,
            "grid_auto_rows": null,
            "grid_column": null,
            "grid_gap": null,
            "grid_row": null,
            "grid_template_areas": null,
            "grid_template_columns": null,
            "grid_template_rows": null,
            "height": null,
            "justify_content": null,
            "justify_items": null,
            "left": null,
            "margin": null,
            "max_height": null,
            "max_width": null,
            "min_height": null,
            "min_width": null,
            "object_fit": null,
            "object_position": null,
            "order": null,
            "overflow": null,
            "overflow_x": null,
            "overflow_y": null,
            "padding": null,
            "right": null,
            "top": null,
            "visibility": null,
            "width": null
          }
        },
        "736a1c40d4de44e7b3ec041d641388a0": {
          "model_module": "@jupyter-widgets/controls",
          "model_name": "DescriptionStyleModel",
          "model_module_version": "1.5.0",
          "state": {
            "_model_module": "@jupyter-widgets/controls",
            "_model_module_version": "1.5.0",
            "_model_name": "DescriptionStyleModel",
            "_view_count": null,
            "_view_module": "@jupyter-widgets/base",
            "_view_module_version": "1.2.0",
            "_view_name": "StyleView",
            "description_width": ""
          }
        },
        "f24bee0f7b744eea96e1ad5530ab0879": {
          "model_module": "@jupyter-widgets/base",
          "model_name": "LayoutModel",
          "model_module_version": "1.2.0",
          "state": {
            "_model_module": "@jupyter-widgets/base",
            "_model_module_version": "1.2.0",
            "_model_name": "LayoutModel",
            "_view_count": null,
            "_view_module": "@jupyter-widgets/base",
            "_view_module_version": "1.2.0",
            "_view_name": "LayoutView",
            "align_content": null,
            "align_items": null,
            "align_self": null,
            "border": null,
            "bottom": null,
            "display": null,
            "flex": null,
            "flex_flow": null,
            "grid_area": null,
            "grid_auto_columns": null,
            "grid_auto_flow": null,
            "grid_auto_rows": null,
            "grid_column": null,
            "grid_gap": null,
            "grid_row": null,
            "grid_template_areas": null,
            "grid_template_columns": null,
            "grid_template_rows": null,
            "height": null,
            "justify_content": null,
            "justify_items": null,
            "left": null,
            "margin": null,
            "max_height": null,
            "max_width": null,
            "min_height": null,
            "min_width": null,
            "object_fit": null,
            "object_position": null,
            "order": null,
            "overflow": null,
            "overflow_x": null,
            "overflow_y": null,
            "padding": null,
            "right": null,
            "top": null,
            "visibility": null,
            "width": null
          }
        },
        "43889561456e457ea1ec7872c8cb7117": {
          "model_module": "@jupyter-widgets/controls",
          "model_name": "ProgressStyleModel",
          "model_module_version": "1.5.0",
          "state": {
            "_model_module": "@jupyter-widgets/controls",
            "_model_module_version": "1.5.0",
            "_model_name": "ProgressStyleModel",
            "_view_count": null,
            "_view_module": "@jupyter-widgets/base",
            "_view_module_version": "1.2.0",
            "_view_name": "StyleView",
            "bar_color": null,
            "description_width": ""
          }
        },
        "30f35e93acf44a00b24a7e543970c15c": {
          "model_module": "@jupyter-widgets/base",
          "model_name": "LayoutModel",
          "model_module_version": "1.2.0",
          "state": {
            "_model_module": "@jupyter-widgets/base",
            "_model_module_version": "1.2.0",
            "_model_name": "LayoutModel",
            "_view_count": null,
            "_view_module": "@jupyter-widgets/base",
            "_view_module_version": "1.2.0",
            "_view_name": "LayoutView",
            "align_content": null,
            "align_items": null,
            "align_self": null,
            "border": null,
            "bottom": null,
            "display": null,
            "flex": null,
            "flex_flow": null,
            "grid_area": null,
            "grid_auto_columns": null,
            "grid_auto_flow": null,
            "grid_auto_rows": null,
            "grid_column": null,
            "grid_gap": null,
            "grid_row": null,
            "grid_template_areas": null,
            "grid_template_columns": null,
            "grid_template_rows": null,
            "height": null,
            "justify_content": null,
            "justify_items": null,
            "left": null,
            "margin": null,
            "max_height": null,
            "max_width": null,
            "min_height": null,
            "min_width": null,
            "object_fit": null,
            "object_position": null,
            "order": null,
            "overflow": null,
            "overflow_x": null,
            "overflow_y": null,
            "padding": null,
            "right": null,
            "top": null,
            "visibility": null,
            "width": null
          }
        },
        "39a7785370704a7d88e28d084024ec69": {
          "model_module": "@jupyter-widgets/controls",
          "model_name": "DescriptionStyleModel",
          "model_module_version": "1.5.0",
          "state": {
            "_model_module": "@jupyter-widgets/controls",
            "_model_module_version": "1.5.0",
            "_model_name": "DescriptionStyleModel",
            "_view_count": null,
            "_view_module": "@jupyter-widgets/base",
            "_view_module_version": "1.2.0",
            "_view_name": "StyleView",
            "description_width": ""
          }
        },
        "848a6f47e88d4cdda9b8e53a9c6160c7": {
          "model_module": "@jupyter-widgets/controls",
          "model_name": "HBoxModel",
          "model_module_version": "1.5.0",
          "state": {
            "_dom_classes": [],
            "_model_module": "@jupyter-widgets/controls",
            "_model_module_version": "1.5.0",
            "_model_name": "HBoxModel",
            "_view_count": null,
            "_view_module": "@jupyter-widgets/controls",
            "_view_module_version": "1.5.0",
            "_view_name": "HBoxView",
            "box_style": "",
            "children": [
              "IPY_MODEL_9c5ab596cd2b49fd89c451bb8032e048",
              "IPY_MODEL_85ee0d700321453a9beabb7748161a68",
              "IPY_MODEL_9ad8e35343704bfaa9a6d16f9947b529"
            ],
            "layout": "IPY_MODEL_5f631615e0a540a8912c3837b88e93b7"
          }
        },
        "9c5ab596cd2b49fd89c451bb8032e048": {
          "model_module": "@jupyter-widgets/controls",
          "model_name": "HTMLModel",
          "model_module_version": "1.5.0",
          "state": {
            "_dom_classes": [],
            "_model_module": "@jupyter-widgets/controls",
            "_model_module_version": "1.5.0",
            "_model_name": "HTMLModel",
            "_view_count": null,
            "_view_module": "@jupyter-widgets/controls",
            "_view_module_version": "1.5.0",
            "_view_name": "HTMLView",
            "description": "",
            "description_tooltip": null,
            "layout": "IPY_MODEL_5492f9347df7498d972fa86ed08e97c9",
            "placeholder": "​",
            "style": "IPY_MODEL_62593c1039a04647b96d8145c76d7613",
            "value": "vocab.txt: 100%"
          }
        },
        "85ee0d700321453a9beabb7748161a68": {
          "model_module": "@jupyter-widgets/controls",
          "model_name": "FloatProgressModel",
          "model_module_version": "1.5.0",
          "state": {
            "_dom_classes": [],
            "_model_module": "@jupyter-widgets/controls",
            "_model_module_version": "1.5.0",
            "_model_name": "FloatProgressModel",
            "_view_count": null,
            "_view_module": "@jupyter-widgets/controls",
            "_view_module_version": "1.5.0",
            "_view_name": "ProgressView",
            "bar_style": "success",
            "description": "",
            "description_tooltip": null,
            "layout": "IPY_MODEL_3bc517e869524a83b25a26056a6ae4e8",
            "max": 231508,
            "min": 0,
            "orientation": "horizontal",
            "style": "IPY_MODEL_4a975f6bf94748dda2ef63969e1f8941",
            "value": 231508
          }
        },
        "9ad8e35343704bfaa9a6d16f9947b529": {
          "model_module": "@jupyter-widgets/controls",
          "model_name": "HTMLModel",
          "model_module_version": "1.5.0",
          "state": {
            "_dom_classes": [],
            "_model_module": "@jupyter-widgets/controls",
            "_model_module_version": "1.5.0",
            "_model_name": "HTMLModel",
            "_view_count": null,
            "_view_module": "@jupyter-widgets/controls",
            "_view_module_version": "1.5.0",
            "_view_name": "HTMLView",
            "description": "",
            "description_tooltip": null,
            "layout": "IPY_MODEL_2ee96e1cae37471390cbc0d2775b431b",
            "placeholder": "​",
            "style": "IPY_MODEL_def0cadcf932450fa2981c68dd181fbc",
            "value": " 232k/232k [00:00&lt;00:00, 1.66MB/s]"
          }
        },
        "5f631615e0a540a8912c3837b88e93b7": {
          "model_module": "@jupyter-widgets/base",
          "model_name": "LayoutModel",
          "model_module_version": "1.2.0",
          "state": {
            "_model_module": "@jupyter-widgets/base",
            "_model_module_version": "1.2.0",
            "_model_name": "LayoutModel",
            "_view_count": null,
            "_view_module": "@jupyter-widgets/base",
            "_view_module_version": "1.2.0",
            "_view_name": "LayoutView",
            "align_content": null,
            "align_items": null,
            "align_self": null,
            "border": null,
            "bottom": null,
            "display": null,
            "flex": null,
            "flex_flow": null,
            "grid_area": null,
            "grid_auto_columns": null,
            "grid_auto_flow": null,
            "grid_auto_rows": null,
            "grid_column": null,
            "grid_gap": null,
            "grid_row": null,
            "grid_template_areas": null,
            "grid_template_columns": null,
            "grid_template_rows": null,
            "height": null,
            "justify_content": null,
            "justify_items": null,
            "left": null,
            "margin": null,
            "max_height": null,
            "max_width": null,
            "min_height": null,
            "min_width": null,
            "object_fit": null,
            "object_position": null,
            "order": null,
            "overflow": null,
            "overflow_x": null,
            "overflow_y": null,
            "padding": null,
            "right": null,
            "top": null,
            "visibility": null,
            "width": null
          }
        },
        "5492f9347df7498d972fa86ed08e97c9": {
          "model_module": "@jupyter-widgets/base",
          "model_name": "LayoutModel",
          "model_module_version": "1.2.0",
          "state": {
            "_model_module": "@jupyter-widgets/base",
            "_model_module_version": "1.2.0",
            "_model_name": "LayoutModel",
            "_view_count": null,
            "_view_module": "@jupyter-widgets/base",
            "_view_module_version": "1.2.0",
            "_view_name": "LayoutView",
            "align_content": null,
            "align_items": null,
            "align_self": null,
            "border": null,
            "bottom": null,
            "display": null,
            "flex": null,
            "flex_flow": null,
            "grid_area": null,
            "grid_auto_columns": null,
            "grid_auto_flow": null,
            "grid_auto_rows": null,
            "grid_column": null,
            "grid_gap": null,
            "grid_row": null,
            "grid_template_areas": null,
            "grid_template_columns": null,
            "grid_template_rows": null,
            "height": null,
            "justify_content": null,
            "justify_items": null,
            "left": null,
            "margin": null,
            "max_height": null,
            "max_width": null,
            "min_height": null,
            "min_width": null,
            "object_fit": null,
            "object_position": null,
            "order": null,
            "overflow": null,
            "overflow_x": null,
            "overflow_y": null,
            "padding": null,
            "right": null,
            "top": null,
            "visibility": null,
            "width": null
          }
        },
        "62593c1039a04647b96d8145c76d7613": {
          "model_module": "@jupyter-widgets/controls",
          "model_name": "DescriptionStyleModel",
          "model_module_version": "1.5.0",
          "state": {
            "_model_module": "@jupyter-widgets/controls",
            "_model_module_version": "1.5.0",
            "_model_name": "DescriptionStyleModel",
            "_view_count": null,
            "_view_module": "@jupyter-widgets/base",
            "_view_module_version": "1.2.0",
            "_view_name": "StyleView",
            "description_width": ""
          }
        },
        "3bc517e869524a83b25a26056a6ae4e8": {
          "model_module": "@jupyter-widgets/base",
          "model_name": "LayoutModel",
          "model_module_version": "1.2.0",
          "state": {
            "_model_module": "@jupyter-widgets/base",
            "_model_module_version": "1.2.0",
            "_model_name": "LayoutModel",
            "_view_count": null,
            "_view_module": "@jupyter-widgets/base",
            "_view_module_version": "1.2.0",
            "_view_name": "LayoutView",
            "align_content": null,
            "align_items": null,
            "align_self": null,
            "border": null,
            "bottom": null,
            "display": null,
            "flex": null,
            "flex_flow": null,
            "grid_area": null,
            "grid_auto_columns": null,
            "grid_auto_flow": null,
            "grid_auto_rows": null,
            "grid_column": null,
            "grid_gap": null,
            "grid_row": null,
            "grid_template_areas": null,
            "grid_template_columns": null,
            "grid_template_rows": null,
            "height": null,
            "justify_content": null,
            "justify_items": null,
            "left": null,
            "margin": null,
            "max_height": null,
            "max_width": null,
            "min_height": null,
            "min_width": null,
            "object_fit": null,
            "object_position": null,
            "order": null,
            "overflow": null,
            "overflow_x": null,
            "overflow_y": null,
            "padding": null,
            "right": null,
            "top": null,
            "visibility": null,
            "width": null
          }
        },
        "4a975f6bf94748dda2ef63969e1f8941": {
          "model_module": "@jupyter-widgets/controls",
          "model_name": "ProgressStyleModel",
          "model_module_version": "1.5.0",
          "state": {
            "_model_module": "@jupyter-widgets/controls",
            "_model_module_version": "1.5.0",
            "_model_name": "ProgressStyleModel",
            "_view_count": null,
            "_view_module": "@jupyter-widgets/base",
            "_view_module_version": "1.2.0",
            "_view_name": "StyleView",
            "bar_color": null,
            "description_width": ""
          }
        },
        "2ee96e1cae37471390cbc0d2775b431b": {
          "model_module": "@jupyter-widgets/base",
          "model_name": "LayoutModel",
          "model_module_version": "1.2.0",
          "state": {
            "_model_module": "@jupyter-widgets/base",
            "_model_module_version": "1.2.0",
            "_model_name": "LayoutModel",
            "_view_count": null,
            "_view_module": "@jupyter-widgets/base",
            "_view_module_version": "1.2.0",
            "_view_name": "LayoutView",
            "align_content": null,
            "align_items": null,
            "align_self": null,
            "border": null,
            "bottom": null,
            "display": null,
            "flex": null,
            "flex_flow": null,
            "grid_area": null,
            "grid_auto_columns": null,
            "grid_auto_flow": null,
            "grid_auto_rows": null,
            "grid_column": null,
            "grid_gap": null,
            "grid_row": null,
            "grid_template_areas": null,
            "grid_template_columns": null,
            "grid_template_rows": null,
            "height": null,
            "justify_content": null,
            "justify_items": null,
            "left": null,
            "margin": null,
            "max_height": null,
            "max_width": null,
            "min_height": null,
            "min_width": null,
            "object_fit": null,
            "object_position": null,
            "order": null,
            "overflow": null,
            "overflow_x": null,
            "overflow_y": null,
            "padding": null,
            "right": null,
            "top": null,
            "visibility": null,
            "width": null
          }
        },
        "def0cadcf932450fa2981c68dd181fbc": {
          "model_module": "@jupyter-widgets/controls",
          "model_name": "DescriptionStyleModel",
          "model_module_version": "1.5.0",
          "state": {
            "_model_module": "@jupyter-widgets/controls",
            "_model_module_version": "1.5.0",
            "_model_name": "DescriptionStyleModel",
            "_view_count": null,
            "_view_module": "@jupyter-widgets/base",
            "_view_module_version": "1.2.0",
            "_view_name": "StyleView",
            "description_width": ""
          }
        },
        "c9054796e22746c6956c139e66f92f9f": {
          "model_module": "@jupyter-widgets/controls",
          "model_name": "HBoxModel",
          "model_module_version": "1.5.0",
          "state": {
            "_dom_classes": [],
            "_model_module": "@jupyter-widgets/controls",
            "_model_module_version": "1.5.0",
            "_model_name": "HBoxModel",
            "_view_count": null,
            "_view_module": "@jupyter-widgets/controls",
            "_view_module_version": "1.5.0",
            "_view_name": "HBoxView",
            "box_style": "",
            "children": [
              "IPY_MODEL_2c01294d620f42589c76a8ceffd842b2",
              "IPY_MODEL_7d8c4de4c2b345299688afa4dc3f87df",
              "IPY_MODEL_97ea4f5c999d4308bb18d43aa28a588e"
            ],
            "layout": "IPY_MODEL_f08ddb3c5c1b492b9c159bf21abccea9"
          }
        },
        "2c01294d620f42589c76a8ceffd842b2": {
          "model_module": "@jupyter-widgets/controls",
          "model_name": "HTMLModel",
          "model_module_version": "1.5.0",
          "state": {
            "_dom_classes": [],
            "_model_module": "@jupyter-widgets/controls",
            "_model_module_version": "1.5.0",
            "_model_name": "HTMLModel",
            "_view_count": null,
            "_view_module": "@jupyter-widgets/controls",
            "_view_module_version": "1.5.0",
            "_view_name": "HTMLView",
            "description": "",
            "description_tooltip": null,
            "layout": "IPY_MODEL_c080e6732a344d3fb9cbefdcb05b4d6d",
            "placeholder": "​",
            "style": "IPY_MODEL_55731e0ba0b3424ab2e49c1adc204984",
            "value": "tokenizer.json: 100%"
          }
        },
        "7d8c4de4c2b345299688afa4dc3f87df": {
          "model_module": "@jupyter-widgets/controls",
          "model_name": "FloatProgressModel",
          "model_module_version": "1.5.0",
          "state": {
            "_dom_classes": [],
            "_model_module": "@jupyter-widgets/controls",
            "_model_module_version": "1.5.0",
            "_model_name": "FloatProgressModel",
            "_view_count": null,
            "_view_module": "@jupyter-widgets/controls",
            "_view_module_version": "1.5.0",
            "_view_name": "ProgressView",
            "bar_style": "success",
            "description": "",
            "description_tooltip": null,
            "layout": "IPY_MODEL_9fad3d3eca21465a89dd1da6c13d7d14",
            "max": 466062,
            "min": 0,
            "orientation": "horizontal",
            "style": "IPY_MODEL_7c22ea4145004ebab425bc33fdc7ec76",
            "value": 466062
          }
        },
        "97ea4f5c999d4308bb18d43aa28a588e": {
          "model_module": "@jupyter-widgets/controls",
          "model_name": "HTMLModel",
          "model_module_version": "1.5.0",
          "state": {
            "_dom_classes": [],
            "_model_module": "@jupyter-widgets/controls",
            "_model_module_version": "1.5.0",
            "_model_name": "HTMLModel",
            "_view_count": null,
            "_view_module": "@jupyter-widgets/controls",
            "_view_module_version": "1.5.0",
            "_view_name": "HTMLView",
            "description": "",
            "description_tooltip": null,
            "layout": "IPY_MODEL_44c9d2438dcb45d3b112e28f110f7fff",
            "placeholder": "​",
            "style": "IPY_MODEL_041248ae33c24a6395201bf512c04dab",
            "value": " 466k/466k [00:00&lt;00:00, 3.27MB/s]"
          }
        },
        "f08ddb3c5c1b492b9c159bf21abccea9": {
          "model_module": "@jupyter-widgets/base",
          "model_name": "LayoutModel",
          "model_module_version": "1.2.0",
          "state": {
            "_model_module": "@jupyter-widgets/base",
            "_model_module_version": "1.2.0",
            "_model_name": "LayoutModel",
            "_view_count": null,
            "_view_module": "@jupyter-widgets/base",
            "_view_module_version": "1.2.0",
            "_view_name": "LayoutView",
            "align_content": null,
            "align_items": null,
            "align_self": null,
            "border": null,
            "bottom": null,
            "display": null,
            "flex": null,
            "flex_flow": null,
            "grid_area": null,
            "grid_auto_columns": null,
            "grid_auto_flow": null,
            "grid_auto_rows": null,
            "grid_column": null,
            "grid_gap": null,
            "grid_row": null,
            "grid_template_areas": null,
            "grid_template_columns": null,
            "grid_template_rows": null,
            "height": null,
            "justify_content": null,
            "justify_items": null,
            "left": null,
            "margin": null,
            "max_height": null,
            "max_width": null,
            "min_height": null,
            "min_width": null,
            "object_fit": null,
            "object_position": null,
            "order": null,
            "overflow": null,
            "overflow_x": null,
            "overflow_y": null,
            "padding": null,
            "right": null,
            "top": null,
            "visibility": null,
            "width": null
          }
        },
        "c080e6732a344d3fb9cbefdcb05b4d6d": {
          "model_module": "@jupyter-widgets/base",
          "model_name": "LayoutModel",
          "model_module_version": "1.2.0",
          "state": {
            "_model_module": "@jupyter-widgets/base",
            "_model_module_version": "1.2.0",
            "_model_name": "LayoutModel",
            "_view_count": null,
            "_view_module": "@jupyter-widgets/base",
            "_view_module_version": "1.2.0",
            "_view_name": "LayoutView",
            "align_content": null,
            "align_items": null,
            "align_self": null,
            "border": null,
            "bottom": null,
            "display": null,
            "flex": null,
            "flex_flow": null,
            "grid_area": null,
            "grid_auto_columns": null,
            "grid_auto_flow": null,
            "grid_auto_rows": null,
            "grid_column": null,
            "grid_gap": null,
            "grid_row": null,
            "grid_template_areas": null,
            "grid_template_columns": null,
            "grid_template_rows": null,
            "height": null,
            "justify_content": null,
            "justify_items": null,
            "left": null,
            "margin": null,
            "max_height": null,
            "max_width": null,
            "min_height": null,
            "min_width": null,
            "object_fit": null,
            "object_position": null,
            "order": null,
            "overflow": null,
            "overflow_x": null,
            "overflow_y": null,
            "padding": null,
            "right": null,
            "top": null,
            "visibility": null,
            "width": null
          }
        },
        "55731e0ba0b3424ab2e49c1adc204984": {
          "model_module": "@jupyter-widgets/controls",
          "model_name": "DescriptionStyleModel",
          "model_module_version": "1.5.0",
          "state": {
            "_model_module": "@jupyter-widgets/controls",
            "_model_module_version": "1.5.0",
            "_model_name": "DescriptionStyleModel",
            "_view_count": null,
            "_view_module": "@jupyter-widgets/base",
            "_view_module_version": "1.2.0",
            "_view_name": "StyleView",
            "description_width": ""
          }
        },
        "9fad3d3eca21465a89dd1da6c13d7d14": {
          "model_module": "@jupyter-widgets/base",
          "model_name": "LayoutModel",
          "model_module_version": "1.2.0",
          "state": {
            "_model_module": "@jupyter-widgets/base",
            "_model_module_version": "1.2.0",
            "_model_name": "LayoutModel",
            "_view_count": null,
            "_view_module": "@jupyter-widgets/base",
            "_view_module_version": "1.2.0",
            "_view_name": "LayoutView",
            "align_content": null,
            "align_items": null,
            "align_self": null,
            "border": null,
            "bottom": null,
            "display": null,
            "flex": null,
            "flex_flow": null,
            "grid_area": null,
            "grid_auto_columns": null,
            "grid_auto_flow": null,
            "grid_auto_rows": null,
            "grid_column": null,
            "grid_gap": null,
            "grid_row": null,
            "grid_template_areas": null,
            "grid_template_columns": null,
            "grid_template_rows": null,
            "height": null,
            "justify_content": null,
            "justify_items": null,
            "left": null,
            "margin": null,
            "max_height": null,
            "max_width": null,
            "min_height": null,
            "min_width": null,
            "object_fit": null,
            "object_position": null,
            "order": null,
            "overflow": null,
            "overflow_x": null,
            "overflow_y": null,
            "padding": null,
            "right": null,
            "top": null,
            "visibility": null,
            "width": null
          }
        },
        "7c22ea4145004ebab425bc33fdc7ec76": {
          "model_module": "@jupyter-widgets/controls",
          "model_name": "ProgressStyleModel",
          "model_module_version": "1.5.0",
          "state": {
            "_model_module": "@jupyter-widgets/controls",
            "_model_module_version": "1.5.0",
            "_model_name": "ProgressStyleModel",
            "_view_count": null,
            "_view_module": "@jupyter-widgets/base",
            "_view_module_version": "1.2.0",
            "_view_name": "StyleView",
            "bar_color": null,
            "description_width": ""
          }
        },
        "44c9d2438dcb45d3b112e28f110f7fff": {
          "model_module": "@jupyter-widgets/base",
          "model_name": "LayoutModel",
          "model_module_version": "1.2.0",
          "state": {
            "_model_module": "@jupyter-widgets/base",
            "_model_module_version": "1.2.0",
            "_model_name": "LayoutModel",
            "_view_count": null,
            "_view_module": "@jupyter-widgets/base",
            "_view_module_version": "1.2.0",
            "_view_name": "LayoutView",
            "align_content": null,
            "align_items": null,
            "align_self": null,
            "border": null,
            "bottom": null,
            "display": null,
            "flex": null,
            "flex_flow": null,
            "grid_area": null,
            "grid_auto_columns": null,
            "grid_auto_flow": null,
            "grid_auto_rows": null,
            "grid_column": null,
            "grid_gap": null,
            "grid_row": null,
            "grid_template_areas": null,
            "grid_template_columns": null,
            "grid_template_rows": null,
            "height": null,
            "justify_content": null,
            "justify_items": null,
            "left": null,
            "margin": null,
            "max_height": null,
            "max_width": null,
            "min_height": null,
            "min_width": null,
            "object_fit": null,
            "object_position": null,
            "order": null,
            "overflow": null,
            "overflow_x": null,
            "overflow_y": null,
            "padding": null,
            "right": null,
            "top": null,
            "visibility": null,
            "width": null
          }
        },
        "041248ae33c24a6395201bf512c04dab": {
          "model_module": "@jupyter-widgets/controls",
          "model_name": "DescriptionStyleModel",
          "model_module_version": "1.5.0",
          "state": {
            "_model_module": "@jupyter-widgets/controls",
            "_model_module_version": "1.5.0",
            "_model_name": "DescriptionStyleModel",
            "_view_count": null,
            "_view_module": "@jupyter-widgets/base",
            "_view_module_version": "1.2.0",
            "_view_name": "StyleView",
            "description_width": ""
          }
        }
      }
    }
  },
  "cells": [
    {
      "cell_type": "markdown",
      "metadata": {
        "id": "view-in-github",
        "colab_type": "text"
      },
      "source": [
        "<a href=\"https://colab.research.google.com/github/Yashcode007/pytorch/blob/main/pytorch_gpt_1.ipynb\" target=\"_parent\"><img src=\"https://colab.research.google.com/assets/colab-badge.svg\" alt=\"Open In Colab\"/></a>"
      ]
    },
    {
      "cell_type": "code",
      "execution_count": null,
      "metadata": {
        "colab": {
          "base_uri": "https://localhost:8080/"
        },
        "id": "gHPiGoZYVRXd",
        "outputId": "b83a2d44-8966-47fc-82a9-8cbacde2b13b"
      },
      "outputs": [
        {
          "output_type": "stream",
          "name": "stdout",
          "text": [
            "2.6.0+cu124\n",
            "GPU Available: True\n"
          ]
        }
      ],
      "source": [
        "import torch\n",
        "print(torch.__version__)\n",
        "print(\"GPU Available:\", torch.cuda.is_available())"
      ]
    },
    {
      "cell_type": "markdown",
      "source": [
        "Tensors - Multi-Dimensional Arrays (like Numpy Arrays) , but they work on GPU and support AutoGrad"
      ],
      "metadata": {
        "id": "YFLNAz_DjawG"
      }
    },
    {
      "cell_type": "code",
      "source": [
        "scalar = torch.tensor(5)\n",
        "print(scalar)"
      ],
      "metadata": {
        "colab": {
          "base_uri": "https://localhost:8080/"
        },
        "id": "ECub7OXijaKX",
        "outputId": "44718f2b-d5be-4061-d613-ca56f4764d25"
      },
      "execution_count": null,
      "outputs": [
        {
          "output_type": "stream",
          "name": "stdout",
          "text": [
            "tensor(5)\n"
          ]
        }
      ]
    },
    {
      "cell_type": "code",
      "source": [
        "#1 dimension\n",
        "vector = torch.tensor([1,2,3])\n",
        "print(vector)"
      ],
      "metadata": {
        "colab": {
          "base_uri": "https://localhost:8080/"
        },
        "id": "cUaYio7ejocd",
        "outputId": "63686099-94cc-4821-a537-75d36f0d21c9"
      },
      "execution_count": null,
      "outputs": [
        {
          "output_type": "stream",
          "name": "stdout",
          "text": [
            "tensor([1, 2, 3])\n"
          ]
        }
      ]
    },
    {
      "cell_type": "code",
      "source": [
        "vector.shape"
      ],
      "metadata": {
        "colab": {
          "base_uri": "https://localhost:8080/"
        },
        "id": "mFbGrNaxkgYL",
        "outputId": "5d0da903-7ff1-4700-8af4-3fa13f2407e4"
      },
      "execution_count": null,
      "outputs": [
        {
          "output_type": "execute_result",
          "data": {
            "text/plain": [
              "torch.Size([3])"
            ]
          },
          "metadata": {},
          "execution_count": 10
        }
      ]
    },
    {
      "cell_type": "code",
      "source": [
        "#2 Dimension\n",
        "matrix = torch.tensor([[1,2],[3,4]])\n",
        "print(matrix)"
      ],
      "metadata": {
        "colab": {
          "base_uri": "https://localhost:8080/"
        },
        "id": "xn4qc1_Zj1OH",
        "outputId": "d1c7582a-4c92-4333-9fc5-a49a04409f04"
      },
      "execution_count": null,
      "outputs": [
        {
          "output_type": "stream",
          "name": "stdout",
          "text": [
            "tensor([[1, 2],\n",
            "        [3, 4]])\n"
          ]
        }
      ]
    },
    {
      "cell_type": "code",
      "source": [
        "matrix.shape"
      ],
      "metadata": {
        "colab": {
          "base_uri": "https://localhost:8080/"
        },
        "id": "Z0U7Dcd9kisv",
        "outputId": "45dfb841-8c3e-41ee-84da-c3a4bb4fdab9"
      },
      "execution_count": null,
      "outputs": [
        {
          "output_type": "execute_result",
          "data": {
            "text/plain": [
              "torch.Size([2, 2])"
            ]
          },
          "metadata": {},
          "execution_count": 11
        }
      ]
    },
    {
      "cell_type": "code",
      "source": [
        "#3 Dimension\n",
        "tensor3d = torch.rand(2,3,4)  #2 blocks of 3x4 matrix\n",
        "print(tensor3d.shape)"
      ],
      "metadata": {
        "colab": {
          "base_uri": "https://localhost:8080/"
        },
        "id": "167No2N3j9aU",
        "outputId": "9f375b39-fa8a-4a04-e358-90b4b7ba5724"
      },
      "execution_count": null,
      "outputs": [
        {
          "output_type": "stream",
          "name": "stdout",
          "text": [
            "torch.Size([2, 3, 4])\n"
          ]
        }
      ]
    },
    {
      "cell_type": "code",
      "source": [
        "tensor3d"
      ],
      "metadata": {
        "colab": {
          "base_uri": "https://localhost:8080/"
        },
        "id": "hM7dN7mhkJA_",
        "outputId": "134b9ba4-c961-475a-bad3-b0f5712dddd9"
      },
      "execution_count": null,
      "outputs": [
        {
          "output_type": "execute_result",
          "data": {
            "text/plain": [
              "tensor([[[0.9838, 0.0349, 0.9940, 0.7765],\n",
              "         [0.3012, 0.2138, 0.3181, 0.8706],\n",
              "         [0.9217, 0.8107, 0.6103, 0.5807]],\n",
              "\n",
              "        [[0.4957, 0.0520, 0.1324, 0.3200],\n",
              "         [0.0212, 0.2656, 0.1971, 0.0360],\n",
              "         [0.2589, 0.9403, 0.6068, 0.3493]]])"
            ]
          },
          "metadata": {},
          "execution_count": 9
        }
      ]
    },
    {
      "cell_type": "code",
      "source": [
        "row_vector = vector.view(1,3)\n",
        "col_vector = vector.view(3,1)"
      ],
      "metadata": {
        "id": "fPm3qRYakPJV"
      },
      "execution_count": null,
      "outputs": []
    },
    {
      "cell_type": "code",
      "source": [
        "row_vector.shape"
      ],
      "metadata": {
        "colab": {
          "base_uri": "https://localhost:8080/"
        },
        "id": "C2QMy0ULmJ4l",
        "outputId": "cc39c748-2574-4313-aae0-8a917a58e7d5"
      },
      "execution_count": null,
      "outputs": [
        {
          "output_type": "execute_result",
          "data": {
            "text/plain": [
              "torch.Size([1, 3])"
            ]
          },
          "metadata": {},
          "execution_count": 20
        }
      ]
    },
    {
      "cell_type": "code",
      "source": [
        "col_vector.shape"
      ],
      "metadata": {
        "colab": {
          "base_uri": "https://localhost:8080/"
        },
        "id": "y80VbawJmKgd",
        "outputId": "2be7e26c-c2a4-437d-d74e-a5e7487743b7"
      },
      "execution_count": null,
      "outputs": [
        {
          "output_type": "execute_result",
          "data": {
            "text/plain": [
              "torch.Size([3, 1])"
            ]
          },
          "metadata": {},
          "execution_count": 21
        }
      ]
    },
    {
      "cell_type": "code",
      "source": [
        "print(\"x.ndim:\", vector.ndim)\n",
        "print(\"y.ndim:\", vector.ndim)"
      ],
      "metadata": {
        "colab": {
          "base_uri": "https://localhost:8080/"
        },
        "id": "EM4UBISJmMkJ",
        "outputId": "c38e6c54-1dcf-40ec-b5e1-6392beb00b99"
      },
      "execution_count": null,
      "outputs": [
        {
          "output_type": "stream",
          "name": "stdout",
          "text": [
            "x.ndim: 1\n",
            "y.ndim: 1\n"
          ]
        }
      ]
    },
    {
      "cell_type": "code",
      "source": [],
      "metadata": {
        "id": "_TWVpeNfo05B"
      },
      "execution_count": null,
      "outputs": []
    },
    {
      "cell_type": "markdown",
      "source": [
        "What do LLMs actually take as input?\n",
        "Most LLMs(like GPT , BERT, LLaMa) take input shaped like this:\n",
        "Shape->\n",
        "[batch_size, sequence_length , embedding_dim]\n",
        "\n",
        "batch_size -> How many sequence(sentences) you feed in at once\n",
        "sequence_length -> How many tokens per sequence\n",
        "embedding_dim -> How big each token vector is (usually 256 , 768 , 1024, etc)"
      ],
      "metadata": {
        "id": "_u1s_MJ6o2_5"
      }
    },
    {
      "cell_type": "code",
      "source": [
        "llm_input = torch.rand(2,5,4) # 2 sentences , 5 tokens each , embedding_size 4\n",
        "print(\"LLM Input Tensor:\\n\", llm_input)\n",
        "print(\"Shape:\", llm_input.shape)"
      ],
      "metadata": {
        "colab": {
          "base_uri": "https://localhost:8080/"
        },
        "id": "99JK7aIfoAui",
        "outputId": "8e4da148-6f8d-4acb-fbd0-1d942835054b"
      },
      "execution_count": null,
      "outputs": [
        {
          "output_type": "stream",
          "name": "stdout",
          "text": [
            "LLM Input Tensor:\n",
            " tensor([[[0.2859, 0.2708, 0.8687, 0.6443],\n",
            "         [0.0397, 0.9256, 0.3220, 0.3820],\n",
            "         [0.9727, 0.3922, 0.5970, 0.2150],\n",
            "         [0.2278, 0.2654, 0.5593, 0.4859],\n",
            "         [0.0033, 0.2276, 0.3299, 0.0431]],\n",
            "\n",
            "        [[0.6066, 0.4954, 0.3526, 0.4957],\n",
            "         [0.2711, 0.8903, 0.8998, 0.2803],\n",
            "         [0.8758, 0.5222, 0.0750, 0.3358],\n",
            "         [0.0547, 0.0412, 0.3838, 0.1640],\n",
            "         [0.5227, 0.8826, 0.0132, 0.3425]]])\n",
            "Shape: torch.Size([2, 5, 4])\n"
          ]
        }
      ]
    },
    {
      "cell_type": "markdown",
      "source": [
        "What if the sentences have different lengths or embedding dim?\n",
        "Then we need to pad the shorter one , hence both the sentences become of the same length"
      ],
      "metadata": {
        "id": "42OvzC9C9Yi9"
      }
    },
    {
      "cell_type": "markdown",
      "source": [
        "Also the embedding cannot be different , as the embedding dim is fixed in the models like BERT , GPT-2 , etc"
      ],
      "metadata": {
        "id": "fECJZqgq9tcj"
      }
    },
    {
      "cell_type": "markdown",
      "source": [
        "Pytorch + HuggingFace tokenizer handles this using the padding=True convention"
      ],
      "metadata": {
        "id": "Q3T8hbU89mCO"
      }
    },
    {
      "cell_type": "code",
      "source": [
        "from transformers import AutoTokenizer\n",
        "\n",
        "tokenizer = AutoTokenizer.from_pretrained(\"bert-base-uncased\")\n",
        "tokens = tokenizer([\"I love tea\", \"Transformers rock\"], padding=True, return_tensors=\"pt\")\n",
        "print(tokens['input_ids'].shape)"
      ],
      "metadata": {
        "colab": {
          "base_uri": "https://localhost:8080/",
          "height": 162,
          "referenced_widgets": [
            "78ab1fccccb84b4b9d902763018b4ded",
            "b92f6864b06b4fdb95d7d22f1a6e2005",
            "2e8b6c2921fa4b40aef604138ac6e399",
            "e5bde4cad7914c61be1443c3254824e1",
            "57778d0302dd47d9a74de6a4811ffb37",
            "e3a3dc5a2ea7450ea80e6d15a0accf21",
            "a7a4dbd5625d4251845acb3776c00916",
            "bd8f5ba31d1c4cfbba96ab9eedd7fc2b",
            "b960c4f43b4b44c49947dbe643b44e90",
            "7251f363e7d242598759942644d809f9",
            "e0db956489c242e4a9304af0e137a285",
            "04792095eab84d37bc93fe574cf3ef64",
            "591f3e366d4a43078dd297b245022e58",
            "7dc192367c744c9da236e9de00ca02e4",
            "133dc346e0f14e9c9fb3f166182d636e",
            "208ea2b3fc7546c497b7ea39703d53b2",
            "7768bb6c489a47adad4b2f942e7e0d7b",
            "736a1c40d4de44e7b3ec041d641388a0",
            "f24bee0f7b744eea96e1ad5530ab0879",
            "43889561456e457ea1ec7872c8cb7117",
            "30f35e93acf44a00b24a7e543970c15c",
            "39a7785370704a7d88e28d084024ec69",
            "848a6f47e88d4cdda9b8e53a9c6160c7",
            "9c5ab596cd2b49fd89c451bb8032e048",
            "85ee0d700321453a9beabb7748161a68",
            "9ad8e35343704bfaa9a6d16f9947b529",
            "5f631615e0a540a8912c3837b88e93b7",
            "5492f9347df7498d972fa86ed08e97c9",
            "62593c1039a04647b96d8145c76d7613",
            "3bc517e869524a83b25a26056a6ae4e8",
            "4a975f6bf94748dda2ef63969e1f8941",
            "2ee96e1cae37471390cbc0d2775b431b",
            "def0cadcf932450fa2981c68dd181fbc",
            "c9054796e22746c6956c139e66f92f9f",
            "2c01294d620f42589c76a8ceffd842b2",
            "7d8c4de4c2b345299688afa4dc3f87df",
            "97ea4f5c999d4308bb18d43aa28a588e",
            "f08ddb3c5c1b492b9c159bf21abccea9",
            "c080e6732a344d3fb9cbefdcb05b4d6d",
            "55731e0ba0b3424ab2e49c1adc204984",
            "9fad3d3eca21465a89dd1da6c13d7d14",
            "7c22ea4145004ebab425bc33fdc7ec76",
            "44c9d2438dcb45d3b112e28f110f7fff",
            "041248ae33c24a6395201bf512c04dab"
          ]
        },
        "id": "uEJLFF1CpgpD",
        "outputId": "b1fd35be-4a80-4b40-fee5-d18c51693e10"
      },
      "execution_count": null,
      "outputs": [
        {
          "output_type": "display_data",
          "data": {
            "text/plain": [
              "tokenizer_config.json:   0%|          | 0.00/48.0 [00:00<?, ?B/s]"
            ],
            "application/vnd.jupyter.widget-view+json": {
              "version_major": 2,
              "version_minor": 0,
              "model_id": "78ab1fccccb84b4b9d902763018b4ded"
            }
          },
          "metadata": {}
        },
        {
          "output_type": "display_data",
          "data": {
            "text/plain": [
              "config.json:   0%|          | 0.00/570 [00:00<?, ?B/s]"
            ],
            "application/vnd.jupyter.widget-view+json": {
              "version_major": 2,
              "version_minor": 0,
              "model_id": "04792095eab84d37bc93fe574cf3ef64"
            }
          },
          "metadata": {}
        },
        {
          "output_type": "display_data",
          "data": {
            "text/plain": [
              "vocab.txt:   0%|          | 0.00/232k [00:00<?, ?B/s]"
            ],
            "application/vnd.jupyter.widget-view+json": {
              "version_major": 2,
              "version_minor": 0,
              "model_id": "848a6f47e88d4cdda9b8e53a9c6160c7"
            }
          },
          "metadata": {}
        },
        {
          "output_type": "display_data",
          "data": {
            "text/plain": [
              "tokenizer.json:   0%|          | 0.00/466k [00:00<?, ?B/s]"
            ],
            "application/vnd.jupyter.widget-view+json": {
              "version_major": 2,
              "version_minor": 0,
              "model_id": "c9054796e22746c6956c139e66f92f9f"
            }
          },
          "metadata": {}
        },
        {
          "output_type": "stream",
          "name": "stdout",
          "text": [
            "torch.Size([2, 5])\n"
          ]
        }
      ]
    },
    {
      "cell_type": "code",
      "source": [
        "tokens"
      ],
      "metadata": {
        "colab": {
          "base_uri": "https://localhost:8080/"
        },
        "id": "DuvSXkTu-Ii2",
        "outputId": "c9111e91-8e5e-4909-8206-d5de4df0d63c"
      },
      "execution_count": null,
      "outputs": [
        {
          "output_type": "execute_result",
          "data": {
            "text/plain": [
              "{'input_ids': tensor([[  101,  1045,  2293,  5572,   102],\n",
              "        [  101, 19081,  2600,   102,     0]]), 'token_type_ids': tensor([[0, 0, 0, 0, 0],\n",
              "        [0, 0, 0, 0, 0]]), 'attention_mask': tensor([[1, 1, 1, 1, 1],\n",
              "        [1, 1, 1, 1, 0]])}"
            ]
          },
          "metadata": {},
          "execution_count": 2
        }
      ]
    },
    {
      "cell_type": "code",
      "source": [
        "type(tokens)"
      ],
      "metadata": {
        "colab": {
          "base_uri": "https://localhost:8080/",
          "height": 238
        },
        "id": "ArX4z7vg-PkN",
        "outputId": "ee20a6e8-5044-4716-e6c1-295ed0934914"
      },
      "execution_count": null,
      "outputs": [
        {
          "output_type": "execute_result",
          "data": {
            "text/plain": [
              "transformers.tokenization_utils_base.BatchEncoding"
            ],
            "text/html": [
              "<div style=\"max-width:800px; border: 1px solid var(--colab-border-color);\"><style>\n",
              "      pre.function-repr-contents {\n",
              "        overflow-x: auto;\n",
              "        padding: 8px 12px;\n",
              "        max-height: 500px;\n",
              "      }\n",
              "\n",
              "      pre.function-repr-contents.function-repr-contents-collapsed {\n",
              "        cursor: pointer;\n",
              "        max-height: 100px;\n",
              "      }\n",
              "    </style>\n",
              "    <pre style=\"white-space: initial; background:\n",
              "         var(--colab-secondary-surface-color); padding: 8px 12px;\n",
              "         border-bottom: 1px solid var(--colab-border-color);\"><b>transformers.tokenization_utils_base.BatchEncoding</b><br/>def __init__(data: Optional[dict[str, Any]]=None, encoding: Optional[Union[EncodingFast, Sequence[EncodingFast]]]=None, tensor_type: Union[None, str, TensorType]=None, prepend_batch_axis: bool=False, n_sequences: Optional[int]=None)</pre><pre class=\"function-repr-contents function-repr-contents-collapsed\" style=\"\"><a class=\"filepath\" style=\"display:none\" href=\"#\">/usr/local/lib/python3.11/dist-packages/transformers/tokenization_utils_base.py</a>Holds the output of the [`~tokenization_utils_base.PreTrainedTokenizerBase.__call__`],\n",
              "[`~tokenization_utils_base.PreTrainedTokenizerBase.encode_plus`] and\n",
              "[`~tokenization_utils_base.PreTrainedTokenizerBase.batch_encode_plus`] methods (tokens, attention_masks, etc).\n",
              "\n",
              "This class is derived from a python dictionary and can be used as a dictionary. In addition, this class exposes\n",
              "utility methods to map from word/character space to token space.\n",
              "\n",
              "Args:\n",
              "    data (`dict`, *optional*):\n",
              "        Dictionary of lists/arrays/tensors returned by the `__call__`/`encode_plus`/`batch_encode_plus` methods\n",
              "        (&#x27;input_ids&#x27;, &#x27;attention_mask&#x27;, etc.).\n",
              "    encoding (`tokenizers.Encoding` or `Sequence[tokenizers.Encoding]`, *optional*):\n",
              "        If the tokenizer is a fast tokenizer which outputs additional information like mapping from word/character\n",
              "        space to token space the `tokenizers.Encoding` instance or list of instance (for batches) hold this\n",
              "        information.\n",
              "    tensor_type (`Union[None, str, TensorType]`, *optional*):\n",
              "        You can give a tensor_type here to convert the lists of integers in PyTorch/TensorFlow/Numpy Tensors at\n",
              "        initialization.\n",
              "    prepend_batch_axis (`bool`, *optional*, defaults to `False`):\n",
              "        Whether or not to add a batch axis when converting to tensors (see `tensor_type` above). Note that this\n",
              "        parameter has an effect if the parameter `tensor_type` is set, *otherwise has no effect*.\n",
              "    n_sequences (`Optional[int]`, *optional*):\n",
              "        You can give a tensor_type here to convert the lists of integers in PyTorch/TensorFlow/Numpy Tensors at\n",
              "        initialization.</pre>\n",
              "      <script>\n",
              "      if (google.colab.kernel.accessAllowed && google.colab.files && google.colab.files.view) {\n",
              "        for (const element of document.querySelectorAll('.filepath')) {\n",
              "          element.style.display = 'block'\n",
              "          element.onclick = (event) => {\n",
              "            event.preventDefault();\n",
              "            event.stopPropagation();\n",
              "            google.colab.files.view(element.textContent, 192);\n",
              "          };\n",
              "        }\n",
              "      }\n",
              "      for (const element of document.querySelectorAll('.function-repr-contents')) {\n",
              "        element.onclick = (event) => {\n",
              "          event.preventDefault();\n",
              "          event.stopPropagation();\n",
              "          element.classList.toggle('function-repr-contents-collapsed');\n",
              "        };\n",
              "      }\n",
              "      </script>\n",
              "      </div>"
            ]
          },
          "metadata": {},
          "execution_count": 5
        }
      ]
    },
    {
      "cell_type": "code",
      "source": [],
      "metadata": {
        "id": "Lfyom4gj-UxO"
      },
      "execution_count": null,
      "outputs": []
    },
    {
      "cell_type": "code",
      "source": [],
      "metadata": {
        "id": "-zg-W1g2AgLp"
      },
      "execution_count": null,
      "outputs": []
    },
    {
      "cell_type": "markdown",
      "source": [
        "Tensor Operations + GPU Usage"
      ],
      "metadata": {
        "id": "7Gfa9LIjAgrs"
      }
    },
    {
      "cell_type": "code",
      "source": [
        "import torch\n",
        "\n",
        "a = torch.tensor([[1.,2.],[3.,4.]])\n",
        "b = torch.tensor([[10.,20.],[30.,40.]])\n",
        "\n",
        "print(a+b)\n",
        "print(a-b)\n",
        "print(torch.matmul(a,b.T))"
      ],
      "metadata": {
        "colab": {
          "base_uri": "https://localhost:8080/"
        },
        "id": "ThwMcAhEAimX",
        "outputId": "60fc14cb-84f4-44e5-ec92-d3f532586bb4"
      },
      "execution_count": null,
      "outputs": [
        {
          "output_type": "stream",
          "name": "stdout",
          "text": [
            "tensor([[11., 22.],\n",
            "        [33., 44.]])\n",
            "tensor([[ -9., -18.],\n",
            "        [-27., -36.]])\n",
            "tensor([[ 50., 110.],\n",
            "        [110., 250.]])\n"
          ]
        }
      ]
    },
    {
      "cell_type": "markdown",
      "source": [
        "Matrix Multiplication is important as every neural network layer is a matrix multiplication:\n",
        "1) Embedding Layer\n",
        "2) Linear(fully connected layer)\n",
        "3) Self Attention\n",
        "\n",
        "All doing some form of:\n",
        "output = input@weight_matrix + bias"
      ],
      "metadata": {
        "id": "aLVxHZzBBafz"
      }
    },
    {
      "cell_type": "code",
      "source": [
        "x = torch.rand(2,3)\n",
        "print(x.shape)\n",
        "\n",
        "# reshaped = x.view(3,2)\n",
        "# print(reshaped.reshape)"
      ],
      "metadata": {
        "colab": {
          "base_uri": "https://localhost:8080/"
        },
        "id": "H5MwjdP6A0Q1",
        "outputId": "3043a0fb-e452-4c3f-e093-a80ecea4126c"
      },
      "execution_count": null,
      "outputs": [
        {
          "output_type": "stream",
          "name": "stdout",
          "text": [
            "torch.Size([2, 3])\n"
          ]
        }
      ]
    },
    {
      "cell_type": "code",
      "source": [
        "x"
      ],
      "metadata": {
        "colab": {
          "base_uri": "https://localhost:8080/"
        },
        "id": "o0_127c7FV-k",
        "outputId": "8581ea3a-ebcd-4d44-a37e-3dfe35a1be33"
      },
      "execution_count": null,
      "outputs": [
        {
          "output_type": "execute_result",
          "data": {
            "text/plain": [
              "tensor([[0.6458, 0.1860, 0.9687],\n",
              "        [0.1091, 0.9286, 0.6414]])"
            ]
          },
          "metadata": {},
          "execution_count": 14
        }
      ]
    },
    {
      "cell_type": "markdown",
      "source": [
        "Reshaping meaning -> It changes how the data is arranged in dimension , but dont change the actual data itself"
      ],
      "metadata": {
        "id": "M6EQ8uiFG4IV"
      }
    },
    {
      "cell_type": "markdown",
      "source": [
        "We reshape because many parts o a model expect inputs in specific shapes"
      ],
      "metadata": {
        "id": "aQ0ZhHokHEXK"
      }
    },
    {
      "cell_type": "markdown",
      "source": [
        "For example-> Batch processing\tStack [batch, seq_len, embed_dim]\n",
        "Flatten before linear layers\t       [batch, channels, height, width] → [batch, features]\n",
        "Squeeze singleton dims\t[3, 1] → [3]"
      ],
      "metadata": {
        "id": "-Sxhguc0HNqL"
      }
    },
    {
      "cell_type": "code",
      "source": [
        "reshaped = x.view(3,2)\n",
        "print(reshaped.reshape)"
      ],
      "metadata": {
        "colab": {
          "base_uri": "https://localhost:8080/"
        },
        "id": "qnTtA4eNFJ2M",
        "outputId": "ceb436d8-b479-416d-ac4d-2f1370687b4e"
      },
      "execution_count": null,
      "outputs": [
        {
          "output_type": "stream",
          "name": "stdout",
          "text": [
            "<built-in method reshape of Tensor object at 0x7a8bb482c530>\n"
          ]
        }
      ]
    },
    {
      "cell_type": "code",
      "source": [
        "reshaped"
      ],
      "metadata": {
        "colab": {
          "base_uri": "https://localhost:8080/"
        },
        "id": "GBCq51jIFO3E",
        "outputId": "eb1ed8bc-519e-4f30-8b91-dca49294ad98"
      },
      "execution_count": null,
      "outputs": [
        {
          "output_type": "execute_result",
          "data": {
            "text/plain": [
              "tensor([[0.6458, 0.1860],\n",
              "        [0.9687, 0.1091],\n",
              "        [0.9286, 0.6414]])"
            ]
          },
          "metadata": {},
          "execution_count": 13
        }
      ]
    },
    {
      "cell_type": "code",
      "source": [
        "word_embed = torch.tensor([1.0,2.0,3.0])\n",
        "print(word_embed.shape)\n",
        "\n",
        "print(word_embed.view(1,3))\n",
        "print(word_embed.view(3,1))"
      ],
      "metadata": {
        "colab": {
          "base_uri": "https://localhost:8080/"
        },
        "id": "OuDzernEFSxU",
        "outputId": "0dc7c92f-0d8d-466a-ab89-6288dc8295a1"
      },
      "execution_count": null,
      "outputs": [
        {
          "output_type": "stream",
          "name": "stdout",
          "text": [
            "torch.Size([3])\n",
            "tensor([[1., 2., 3.]])\n",
            "tensor([[1.],\n",
            "        [2.],\n",
            "        [3.]])\n"
          ]
        }
      ]
    },
    {
      "cell_type": "code",
      "source": [],
      "metadata": {
        "id": "xWzzGqHXGm1F"
      },
      "execution_count": null,
      "outputs": []
    },
    {
      "cell_type": "code",
      "source": [],
      "metadata": {
        "id": "eDCJW7sYKbYp"
      },
      "execution_count": null,
      "outputs": []
    },
    {
      "cell_type": "code",
      "source": [],
      "metadata": {
        "id": "xvSM8o4lKbVM"
      },
      "execution_count": null,
      "outputs": []
    },
    {
      "cell_type": "code",
      "source": [],
      "metadata": {
        "id": "FyxVFWyzKbSr"
      },
      "execution_count": null,
      "outputs": []
    },
    {
      "cell_type": "code",
      "source": [],
      "metadata": {
        "id": "O_p-bBQVKbQB"
      },
      "execution_count": null,
      "outputs": []
    },
    {
      "cell_type": "code",
      "source": [],
      "metadata": {
        "id": "9D-DyNKNKbF2"
      },
      "execution_count": null,
      "outputs": []
    },
    {
      "cell_type": "markdown",
      "source": [
        "# Heart of Deep Learning and Pytorch"
      ],
      "metadata": {
        "id": "7-iAcsbUKb7L"
      }
    },
    {
      "cell_type": "markdown",
      "source": [
        "Weights -> learnable parameters that control the strength of connection between input and output features in a neural network\n",
        "\n",
        "For example,\n",
        "input = [x1,x2,x3]\n",
        "weights = [w1,w2,w3]\n",
        "\n",
        "weighted sum will be:-\n",
        "z = w1x1 + w2x2 + w3x3\n",
        "\n",
        "The model adjusts weights during training using backpropogation , it minimizes the error"
      ],
      "metadata": {
        "id": "26CUz0efOKI1"
      }
    },
    {
      "cell_type": "markdown",
      "source": [
        "Bias is a learnable scalar(or vector) that is added to the weighted sum to shift the output\n",
        "\n",
        "Mathematically:\n",
        "z = w.x + b\n",
        "\n",
        "it is like c in y=mx+c , it lets thr model move the line up and down"
      ],
      "metadata": {
        "id": "2FwCGfnaPMeH"
      }
    },
    {
      "cell_type": "markdown",
      "source": [
        "Linear Transformation (y=mx+c)\n",
        "\n",
        "In neural networks:-\n",
        "x = input\n",
        "m = weight(w)\n",
        "c = bias(b)\n",
        "\n",
        "Output\n",
        "y=w.x+b\n",
        "\n",
        "If we apply an activation(like Relu or sigmoid) ,\n",
        "y=σ(w⋅x+b)"
      ],
      "metadata": {
        "id": "K9bHaymMPcGh"
      }
    },
    {
      "cell_type": "markdown",
      "source": [
        "Practical Context:-\n",
        "Imagine you're predicting house prices.\n",
        "\n",
        "Each feature like square footage, number of rooms, etc. has a weight.\n",
        "\n",
        "Bias allows your prediction to adjust upward or downward, even when all inputs are zero.\n",
        "\n",
        "The model learns the best weights and bias to match real house prices.\n",
        "\n"
      ],
      "metadata": {
        "id": "Bi8QG6wFP8W5"
      }
    },
    {
      "cell_type": "markdown",
      "source": [
        "## Activation Function"
      ],
      "metadata": {
        "id": "LI-Gyb-MzB6q"
      }
    },
    {
      "cell_type": "markdown",
      "source": [
        "An activation function decides whether a neuron should be activated or not . It adds non-linearity to the model so that it can learn complex patterns(as no matter how many layers we add , the output would still be linear)"
      ],
      "metadata": {
        "id": "ocWTZhBNzEWk"
      }
    },
    {
      "cell_type": "markdown",
      "source": [
        "## ReLU(Rectified Linear Unit)\n",
        "ReLU(x) = max(0,x)\n",
        "\n",
        "Positive -> Same as input\n",
        "Negative or 0 -> 0"
      ],
      "metadata": {
        "id": "vWCuk6EMzUBW"
      }
    },
    {
      "cell_type": "markdown",
      "source": [
        "When to use -\n",
        "- Extremely simple and fast\n",
        "- Helps avoid vanishing gradient in deep networks\n",
        "- Usually the default for hidden layers"
      ],
      "metadata": {
        "id": "quJG4qo7zxxo"
      }
    },
    {
      "cell_type": "markdown",
      "source": [],
      "metadata": {
        "id": "RV_RsYIg0HTS"
      }
    },
    {
      "cell_type": "markdown",
      "source": [
        "## Sigmoid"
      ],
      "metadata": {
        "id": "RfzgPtYk0Fpp"
      }
    },
    {
      "cell_type": "markdown",
      "source": [
        "Formula-> sigmoid(x) = 1/(1+exp(-x))\n",
        "Output Range -> (0,1)\n",
        "\n",
        "When to use:-\n",
        "- converts real numbers into probability like value\n",
        "- helps in binary classification or output layer when you want a yes/no prediction"
      ],
      "metadata": {
        "id": "kcdTzFvp0IRC"
      }
    },
    {
      "cell_type": "markdown",
      "source": [
        "## Tanh\n",
        "Formula-> (exp(x) - exp(-x))/(exp(x) + exp(-x))\n",
        "\n",
        "Output-> (-1,1)\n",
        "Similar to sigmoid , but centered at 0\n",
        "We can use it when the input data is centered and we need smooth transitions or better gradient flow than sigmoid"
      ],
      "metadata": {
        "id": "s2ICIJVv0m6V"
      }
    },
    {
      "cell_type": "markdown",
      "source": [
        "| Activation  | Output Range | Use In              | When                              |\n",
        "| ----------- | ------------ | ------------------- | --------------------------------- |\n",
        "| **ReLU**    | \\[0, ∞)      | Hidden Layers       | **Default** in LLMs, fast, sparse |\n",
        "| **Sigmoid** | (0, 1)       | Output Layer        | Binary classification             |\n",
        "| **Tanh**    | (-1, 1)      | RNNs / older models | Data centered around 0            |\n"
      ],
      "metadata": {
        "id": "XxhvH6xQ1EC2"
      }
    },
    {
      "cell_type": "markdown",
      "source": [
        "Q) Why do neural networks need to stack layers?\n",
        "\n",
        "Think of each neauron s learning simple patterns\n",
        "\n",
        "Layer 1 - edges , corners (in image)\n",
        "\n",
        "Layer 2 - curves , shapes\n",
        "\n",
        "Layer 3 - objects\n",
        "\n",
        "Layer 4 - concepts\n",
        "\n",
        "Layer 8+- meaning , sentiment , intent(LLMs)\n",
        "\n",
        "\n",
        "> Add blockquote\n",
        "\n"
      ],
      "metadata": {
        "id": "MleerZdlRxpu"
      }
    },
    {
      "cell_type": "markdown",
      "source": [
        "Relu is used a lot in convolution and simple feedforward nets , but for models like GPT , we use:-\n",
        "1) GELU(Gaussian Error Linear Unit) in attention and feedforward layer (because its smooth , non linear , keeps small negative values(imp for language representation)"
      ],
      "metadata": {
        "id": "aYQR--mxSMNK"
      }
    },
    {
      "cell_type": "markdown",
      "source": [
        "## Real world Analogy\n",
        "- Linear layers are like arranging blocks in straight lines\n",
        "\n",
        "- Relu/tanh are allowing curves , turns and new dimensions\n",
        "\n",
        "- Weights are how much of each block you use(or how strong is the signal)\n",
        "\n",
        "- Backpropogation is editing your drawing based on feedback"
      ],
      "metadata": {
        "id": "zp5Mps49SxeT"
      }
    },
    {
      "cell_type": "code",
      "source": [],
      "metadata": {
        "id": "DyzrVPARTH7L"
      },
      "execution_count": null,
      "outputs": []
    }
  ]
}