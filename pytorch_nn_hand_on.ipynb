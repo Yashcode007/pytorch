{
  "nbformat": 4,
  "nbformat_minor": 0,
  "metadata": {
    "colab": {
      "provenance": [],
      "gpuType": "T4",
      "authorship_tag": "ABX9TyPmSmtr6/9QvsmzfiEoBzp9",
      "include_colab_link": true
    },
    "kernelspec": {
      "name": "python3",
      "display_name": "Python 3"
    },
    "language_info": {
      "name": "python"
    },
    "accelerator": "GPU"
  },
  "cells": [
    {
      "cell_type": "markdown",
      "metadata": {
        "id": "view-in-github",
        "colab_type": "text"
      },
      "source": [
        "<a href=\"https://colab.research.google.com/github/Yashcode007/pytorch/blob/main/pytorch_nn_hand_on.ipynb\" target=\"_parent\"><img src=\"https://colab.research.google.com/assets/colab-badge.svg\" alt=\"Open In Colab\"/></a>"
      ]
    },
    {
      "cell_type": "code",
      "execution_count": null,
      "metadata": {
        "id": "DiydW8XiZyTQ",
        "outputId": "1a4f8bb3-bcf9-429c-f1b0-f784ac5feda9",
        "colab": {
          "base_uri": "https://localhost:8080/"
        }
      },
      "outputs": [
        {
          "output_type": "stream",
          "name": "stdout",
          "text": [
            "2.6.0+cu124\n",
            "GPU Available: True\n"
          ]
        }
      ],
      "source": [
        "import torch\n",
        "print(torch.__version__)\n",
        "print(\"GPU Available:\", torch.cuda.is_available())"
      ]
    },
    {
      "cell_type": "code",
      "source": [
        "import torch\n",
        "import torch.nn.functional as F\n",
        "\n",
        "x = torch.tensor([2.0,3.0])\n",
        "\n",
        "# Manually setting weights and bias\n",
        "w = torch.tensor([0.5,-1.0])\n",
        "b = torch.tensor(2.0)\n",
        "\n",
        "z = torch.dot(x,w) + b"
      ],
      "metadata": {
        "id": "xeuL4QULZ2dN"
      },
      "execution_count": null,
      "outputs": []
    },
    {
      "cell_type": "code",
      "source": [
        "print(\"Weighted Sum(z):\", z.item())\n",
        "\n",
        "output = F.relu(z)\n",
        "print(\"Activated output(ReLU)\", output.item())\n",
        "\n",
        "output_tanh = torch.tanh(z)\n",
        "print(\"Activated output(Tanh):\", output_tanh.item())\n",
        "\n",
        "output_sigmoid = F.sigmoid(z)\n",
        "print(\"Activated output(Sigmoid:\", output_sigmoid.item())"
      ],
      "metadata": {
        "colab": {
          "base_uri": "https://localhost:8080/"
        },
        "id": "Q0DHi4kCaQG2",
        "outputId": "dd3ee97b-45b4-4aef-ff29-96e4c1387e15"
      },
      "execution_count": null,
      "outputs": [
        {
          "output_type": "stream",
          "name": "stdout",
          "text": [
            "Weighted Sum(z): 0.0\n",
            "Activated output(ReLU) 0.0\n",
            "Activated output(Tanh): 0.0\n",
            "Activated output(Sigmoid: 0.5\n"
          ]
        }
      ]
    },
    {
      "cell_type": "code",
      "source": [],
      "metadata": {
        "id": "Xzyt1g_5aeVy"
      },
      "execution_count": null,
      "outputs": []
    },
    {
      "cell_type": "markdown",
      "source": [
        "Building a 2 Layer Neurat Network on Dummy Data"
      ],
      "metadata": {
        "id": "LUZGxn7fGxK7"
      }
    },
    {
      "cell_type": "markdown",
      "source": [
        "| Input (x₁, x₂) | Label (y) |\n",
        "| -------------- | --------- |\n",
        "| \\[0, 0]        | 0         |\n",
        "| \\[0, 1]        | 1         |\n",
        "| \\[1, 0]        | 1         |\n",
        "| \\[1, 1]        | 0         |\n"
      ],
      "metadata": {
        "id": "Ry4cKodAG9dI"
      }
    },
    {
      "cell_type": "code",
      "source": [
        "import torch\n",
        "import torch.nn as nn\n",
        "import torch.optim as optim\n",
        "\n",
        "X = torch.tensor([[0.,0.], [0.,1.], [1.,0.], [1.,1.]])\n",
        "y = torch.tensor([[0.], [1.],[1.], [0.]])   # target labels"
      ],
      "metadata": {
        "id": "DZdto8FcG8U8"
      },
      "execution_count": null,
      "outputs": []
    },
    {
      "cell_type": "code",
      "source": [
        "b = nn.Linear(2,4)"
      ],
      "metadata": {
        "id": "TaA3e9Z0I11R"
      },
      "execution_count": null,
      "outputs": []
    },
    {
      "cell_type": "code",
      "source": [
        "b"
      ],
      "metadata": {
        "colab": {
          "base_uri": "https://localhost:8080/"
        },
        "id": "gh9SOvbzI4rX",
        "outputId": "8d22ea73-859e-4447-815b-d61686298b05"
      },
      "execution_count": null,
      "outputs": [
        {
          "output_type": "execute_result",
          "data": {
            "text/plain": [
              "Linear(in_features=2, out_features=4, bias=True)"
            ]
          },
          "metadata": {},
          "execution_count": 7
        }
      ]
    },
    {
      "cell_type": "code",
      "source": [
        "class SimpleNet(nn.Module):\n",
        "  def __init__(self):\n",
        "    super().__init__()\n",
        "    self.fc1 = nn.Linear(2,4)   #input layer(2 -> 4 neurons)\n",
        "    self.fc2 = nn.Linear(4,1)   #output layer (4->1)\n",
        "\n",
        "  def forward(self,x):\n",
        "    x = torch.relu(self.fc1(x))   # hidden layer + Relu\n",
        "    x = torch.sigmoid(self.fc2(x))  # output layer + sigmoid(binary)\n",
        "    return x\n",
        "\n",
        "\n",
        "model = SimpleNet()"
      ],
      "metadata": {
        "id": "u30xzigyIjTv"
      },
      "execution_count": null,
      "outputs": []
    },
    {
      "cell_type": "code",
      "source": [
        "criterion = nn.BCELoss()      # Binary Cross Entropy Loss\n",
        "optimizer = optim.SGD(model.parameters(), lr=0.1)\n",
        "\n",
        "for epoch in range(1000):\n",
        "  y_pred = model(X)\n",
        "  loss = criterion(y_pred,y)\n",
        "\n",
        "  optimizer.zero_grad()\n",
        "  loss.backward()\n",
        "  optimizer.step()\n",
        "\n",
        "  if epoch%100 == 0:\n",
        "    print(f\"Epoch {epoch}, Loss: {loss.item():.4f}\")"
      ],
      "metadata": {
        "colab": {
          "base_uri": "https://localhost:8080/"
        },
        "id": "wJfBr6cnHSAj",
        "outputId": "1c2b39af-7a74-4076-d50f-f2be5bfda3e0"
      },
      "execution_count": null,
      "outputs": [
        {
          "output_type": "stream",
          "name": "stdout",
          "text": [
            "Epoch 0, Loss: 0.7097\n",
            "Epoch 100, Loss: 0.6940\n",
            "Epoch 200, Loss: 0.6938\n",
            "Epoch 300, Loss: 0.6936\n",
            "Epoch 400, Loss: 0.6935\n",
            "Epoch 500, Loss: 0.6934\n",
            "Epoch 600, Loss: 0.6934\n",
            "Epoch 700, Loss: 0.6933\n",
            "Epoch 800, Loss: 0.6933\n",
            "Epoch 900, Loss: 0.6933\n"
          ]
        }
      ]
    },
    {
      "cell_type": "code",
      "source": [
        "print(\"Predictions after training:\")\n",
        "with torch.no_grad():\n",
        "  preds = model(X)\n",
        "  print(torch.round(preds))"
      ],
      "metadata": {
        "colab": {
          "base_uri": "https://localhost:8080/"
        },
        "id": "fAaGUMVpKB7o",
        "outputId": "6978d550-99d2-4667-8a48-7d01c82771f9"
      },
      "execution_count": null,
      "outputs": [
        {
          "output_type": "stream",
          "name": "stdout",
          "text": [
            "Predictions after training:\n",
            "tensor([[0.],\n",
            "        [0.],\n",
            "        [1.],\n",
            "        [1.]])\n"
          ]
        }
      ]
    },
    {
      "cell_type": "markdown",
      "source": [
        "| Function           | Purpose                                   |\n",
        "| ------------------ | ----------------------------------------- |\n",
        "| `BCELoss()`        | Compares predicted vs. true binary labels |\n",
        "| `SGD`              | Optimizer that updates weights/bias       |\n",
        "| `zero_grad()`      | Clears old gradients                      |\n",
        "| `loss.backward()`  | Calculates new gradients via backprop     |\n",
        "| `optimizer.step()` | Applies those gradients to update weights |\n"
      ],
      "metadata": {
        "id": "FXcfp8JIZMy6"
      }
    },
    {
      "cell_type": "code",
      "source": [],
      "metadata": {
        "id": "24MMePvzKaFI"
      },
      "execution_count": null,
      "outputs": []
    },
    {
      "cell_type": "code",
      "source": [],
      "metadata": {
        "id": "6LUR2lqGbkZC"
      },
      "execution_count": null,
      "outputs": []
    },
    {
      "cell_type": "code",
      "source": [],
      "metadata": {
        "id": "9KEAqcXpbk_k"
      },
      "execution_count": null,
      "outputs": []
    },
    {
      "cell_type": "markdown",
      "source": [
        "Visulaisation of the weight updates in training loop"
      ],
      "metadata": {
        "id": "4t6rYCy8blQv"
      }
    },
    {
      "cell_type": "code",
      "source": [
        "import torch\n",
        "import torch.nn as nn\n",
        "import torch.optim as optim\n",
        "\n",
        "X = torch.tensor([[0.,0.],[0.,1.],[1.,0.],[1.,1.]])\n",
        "y = torch.tensor([[0.],[1.],[1.],[0.]])\n",
        "\n",
        "class SimpleNet(nn.Module):\n",
        "  def __init__(self) :\n",
        "    super().__init__()\n",
        "    self.fc1 = nn.Linear(2,4)\n",
        "    self.fc2 = nn.Linear(4,1)\n",
        "\n",
        "  def forward(self,x):\n",
        "    x = torch.relu(self.fc1(x))\n",
        "    x = torch.sigmoid(self.fc2(x))\n",
        "    return x"
      ],
      "metadata": {
        "id": "NuzO69FsbsfP"
      },
      "execution_count": null,
      "outputs": []
    },
    {
      "cell_type": "code",
      "source": [
        "model = SimpleNet()\n",
        "\n",
        "criterion = nn.BCELoss()\n",
        "optimizer = optim.SGD(model.parameters(), lr = 0.1)\n",
        "\n",
        "for epoch in range(1000):\n",
        "  y_pred = model(X)\n",
        "  loss = criterion(y_pred,y)\n",
        "\n",
        "  optimizer.zero_grad()\n",
        "  loss.backward()\n",
        "  optimizer.step()\n",
        "\n",
        "  if epoch % 100 == 0:\n",
        "        print(f\"Epoch {epoch} | Loss: {loss.item():.4f}\")\n",
        "        print(\"fc1 weights:\")\n",
        "        print(model.fc1.weight.data)\n",
        "        print(\"fc1 bias:\")\n",
        "        print(model.fc1.bias.data)\n",
        "        print(\"-\" * 30)"
      ],
      "metadata": {
        "colab": {
          "base_uri": "https://localhost:8080/"
        },
        "id": "Ifusiz4Qc8uf",
        "outputId": "2043ac5b-bfea-4418-f874-fd69f1e5fa6d"
      },
      "execution_count": null,
      "outputs": [
        {
          "output_type": "stream",
          "name": "stdout",
          "text": [
            "Epoch 0 | Loss: 0.7063\n",
            "fc1 weights:\n",
            "tensor([[ 0.1131, -0.0943],\n",
            "        [-0.0959, -0.2817],\n",
            "        [ 0.1919, -0.6261],\n",
            "        [ 0.4324, -0.4234]])\n",
            "fc1 bias:\n",
            "tensor([-0.0341, -0.0271, -0.4396, -0.3556])\n",
            "------------------------------\n",
            "Epoch 100 | Loss: 0.6360\n",
            "fc1 weights:\n",
            "tensor([[ 0.3523, -0.3583],\n",
            "        [-0.0959, -0.2817],\n",
            "        [ 0.1919, -0.6261],\n",
            "        [ 0.6739, -0.5606]])\n",
            "fc1 bias:\n",
            "tensor([-0.0059, -0.0271, -0.4396, -0.1141])\n",
            "------------------------------\n",
            "Epoch 200 | Loss: 0.5538\n",
            "fc1 weights:\n",
            "tensor([[ 0.6266, -0.6362],\n",
            "        [-0.0959, -0.2817],\n",
            "        [ 0.1919, -0.6261],\n",
            "        [ 0.9216, -0.9273]])\n",
            "fc1 bias:\n",
            "tensor([-0.0088, -0.0271, -0.4396, -0.0099])\n",
            "------------------------------\n",
            "Epoch 300 | Loss: 0.5088\n",
            "fc1 weights:\n",
            "tensor([[ 0.8186, -0.8311],\n",
            "        [-0.0959, -0.2817],\n",
            "        [ 0.1919, -0.6261],\n",
            "        [ 1.1577, -1.1665]])\n",
            "fc1 bias:\n",
            "tensor([-0.0114, -0.0271, -0.4396, -0.0130])\n",
            "------------------------------\n",
            "Epoch 400 | Loss: 0.4928\n",
            "fc1 weights:\n",
            "tensor([[ 0.9291, -0.9495],\n",
            "        [-0.0959, -0.2817],\n",
            "        [ 0.1919, -0.6261],\n",
            "        [ 1.2973, -1.3157]])\n",
            "fc1 bias:\n",
            "tensor([-0.0190, -0.0271, -0.4396, -0.0077])\n",
            "------------------------------\n",
            "Epoch 500 | Loss: 0.4864\n",
            "fc1 weights:\n",
            "tensor([[ 1.0125, -1.0114],\n",
            "        [-0.0959, -0.2817],\n",
            "        [ 0.1919, -0.6261],\n",
            "        [ 1.3875, -1.4107]])\n",
            "fc1 bias:\n",
            "tensor([-0.0100, -0.0271, -0.4396, -0.0119])\n",
            "------------------------------\n",
            "Epoch 600 | Loss: 0.4834\n",
            "fc1 weights:\n",
            "tensor([[ 1.0624, -1.0626],\n",
            "        [-0.0959, -0.2817],\n",
            "        [ 0.1919, -0.6261],\n",
            "        [ 1.4510, -1.4766]])\n",
            "fc1 bias:\n",
            "tensor([-0.0115, -0.0271, -0.4396, -0.0140])\n",
            "------------------------------\n",
            "Epoch 700 | Loss: 0.4816\n",
            "fc1 weights:\n",
            "tensor([[ 1.0984, -1.1020],\n",
            "        [-0.0959, -0.2817],\n",
            "        [ 0.1919, -0.6261],\n",
            "        [ 1.4970, -1.5276]])\n",
            "fc1 bias:\n",
            "tensor([-0.0018, -0.0271, -0.4396, -0.0188])\n",
            "------------------------------\n",
            "Epoch 800 | Loss: 0.4808\n",
            "fc1 weights:\n",
            "tensor([[ 1.1311, -1.1290],\n",
            "        [-0.0959, -0.2817],\n",
            "        [ 0.1919, -0.6261],\n",
            "        [ 1.5388, -1.5625]])\n",
            "fc1 bias:\n",
            "tensor([-0.0096, -0.0271, -0.4396, -0.0117])\n",
            "------------------------------\n",
            "Epoch 900 | Loss: 0.4800\n",
            "fc1 weights:\n",
            "tensor([[ 1.1521, -1.1564],\n",
            "        [-0.0959, -0.2817],\n",
            "        [ 0.1919, -0.6261],\n",
            "        [ 1.5658, -1.5981]])\n",
            "fc1 bias:\n",
            "tensor([-0.0023, -0.0271, -0.4396, -0.0202])\n",
            "------------------------------\n"
          ]
        }
      ]
    },
    {
      "cell_type": "markdown",
      "source": [
        "Learning Rate (lr) controls how big a step the optimizer takes during weight updates\n",
        "\n",
        "If the lr is too high:-\n",
        "- We may overshoot the minimum\n",
        "- Loss might bounce wildly\n",
        "\n",
        "If the lr is too low:-\n",
        "- Model trains very slowly\n",
        "- Might get stuck in local minima"
      ],
      "metadata": {
        "id": "0IbbeHuXL-Z2"
      }
    },
    {
      "cell_type": "code",
      "source": [],
      "metadata": {
        "id": "wvn2zg2UdEWS"
      },
      "execution_count": null,
      "outputs": []
    }
  ]
}